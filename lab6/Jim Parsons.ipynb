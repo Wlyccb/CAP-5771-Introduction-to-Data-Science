{
 "cells": [
  {
   "cell_type": "markdown",
   "metadata": {},
   "source": [
    "## Extract facts about tJim Parsons’s wikipedia pages"
   ]
  },
  {
   "cell_type": "markdown",
   "metadata": {},
   "source": [
    "We'll start with the title search string 'Jim Parsons' to retrieve the page about Jim Parsons."
   ]
  },
  {
   "cell_type": "code",
   "execution_count": 4,
   "metadata": {
    "collapsed": false
   },
   "outputs": [
    {
     "data": {
      "text/plain": [
       "<Response [200]>"
      ]
     },
     "execution_count": 4,
     "metadata": {},
     "output_type": "execute_result"
    }
   ],
   "source": [
    "import requests\n",
    "title='Jim Parsons'\n",
    "response = requests.get(\"https://simple.wikipedia.org/w/api.php?format=json&action=query&titles=\"+str(title)+\"&prop=revisions&rvprop=content\")\n",
    "response"
   ]
  },
  {
   "cell_type": "markdown",
   "metadata": {},
   "source": [
    "The response object is an HTTP GET response. It turns out the requests package contains a json interpreter, which we can invoke as:"
   ]
  },
  {
   "cell_type": "code",
   "execution_count": 5,
   "metadata": {
    "collapsed": false
   },
   "outputs": [],
   "source": [
    "jsondata = response.json()"
   ]
  },
  {
   "cell_type": "markdown",
   "metadata": {},
   "source": [
    "a couple of helper routines:\n",
    "The first routine converts the JSON to a carefully-formatted string. The second writes a string to a file. We can use them together to save the JSON data to a better format for viewing."
   ]
  },
  {
   "cell_type": "code",
   "execution_count": 6,
   "metadata": {
    "collapsed": true
   },
   "outputs": [],
   "source": [
    "import json\n",
    "\n",
    "def pretty(jdata):    \n",
    "    str = json.dumps(jdata, sort_keys=True, indent=4).decode('string_escape')    \n",
    "    return str\n",
    "\n",
    "def saveas(sdata, fname):    \n",
    "    f = open(fname,'w')    \n",
    "    f.write(sdata)\n",
    "    f.close()"
   ]
  },
  {
   "cell_type": "code",
   "execution_count": 7,
   "metadata": {
    "collapsed": true
   },
   "outputs": [],
   "source": [
    "saveas(pretty(jsondata), title+'.json')"
   ]
  },
  {
   "cell_type": "code",
   "execution_count": 8,
   "metadata": {
    "collapsed": false
   },
   "outputs": [],
   "source": [
    "content = jsondata['query']['pages'].values()[0]['revisions'][-1]\n",
    "content = content.get('*')"
   ]
  },
  {
   "cell_type": "code",
   "execution_count": 9,
   "metadata": {
    "collapsed": true
   },
   "outputs": [],
   "source": [
    "import mwparserfromhell as mwph \n",
    "wikicode = mwph.parse(content)"
   ]
  },
  {
   "cell_type": "markdown",
   "metadata": {},
   "source": [
    "we want to parse the english text from the article, we want to ignore all these metadata. MWPH has a method to do this:"
   ]
  },
  {
   "cell_type": "code",
   "execution_count": 10,
   "metadata": {
    "collapsed": true
   },
   "outputs": [],
   "source": [
    "text = wikicode.strip_code()"
   ]
  },
  {
   "cell_type": "code",
   "execution_count": 11,
   "metadata": {
    "collapsed": true
   },
   "outputs": [],
   "source": [
    "saveas(pretty(text), title+'_simple.txt')"
   ]
  },
  {
   "cell_type": "code",
   "execution_count": 12,
   "metadata": {
    "collapsed": true
   },
   "outputs": [],
   "source": [
    "from lxml import etree \n",
    "parser = etree.XMLParser(recover=True)\n",
    "tree = etree.parse('Jim Parsons.xml',parser)"
   ]
  },
  {
   "cell_type": "code",
   "execution_count": 13,
   "metadata": {
    "collapsed": true
   },
   "outputs": [],
   "source": [
    "root=tree.getroot() "
   ]
  },
  {
   "cell_type": "code",
   "execution_count": 14,
   "metadata": {
    "collapsed": false
   },
   "outputs": [],
   "source": [
    "title = 'Parsons'\n",
    "def printnode(node):    \n",
    "    for i in node.findall(\".//leaf\"):        \n",
    "        print(\" \" + i.attrib['value']),    \n",
    "    print('') \n",
    "\n",
    "def testnode(node, agent, action):    \n",
    "    aa = node.findall(\"./node[@value='NP']//node[@value='NNP']//leaf[@value='\"+agent+\"']\")    \n",
    "    bb = node.findall(\"./node[@value='VP']//node[@value='VBZ']//leaf[@value='\"+action+\"']\")    \n",
    "    if (len(aa) > 0 and len(bb) > 0):        \n",
    "        printnode(node)     \n",
    "\n",
    "def agentact(node, agent, action):    \n",
    "    testnode(node, agent, action)    \n",
    "    snodes = node.findall(\".//node[@value='S']\")    \n",
    "    for snode in snodes:        \n",
    "        testnode(snode, agent, action)\n"
   ]
  },
  {
   "cell_type": "code",
   "execution_count": 15,
   "metadata": {
    "collapsed": false
   },
   "outputs": [
    {
     "name": "stdout",
     "output_type": "stream",
     "text": [
      " ``  James  Joseph  ``  Jim  ''  Parsons  -LRB-  born  March  24  ,  1973  in  Houston  ,  Texas  -RRB-  is  an  American  actor  . \n",
      " Parsons  is  best  known  for  playing  the  role  of  Sheldon  Cooper  in  the  television  series  ,  The  Big  Bang  Theory  . \n",
      " According  to  The  New  York  Times  ,  Parsons  is  gay.Stalked  by  shadows  Filmography  Movies  Nowhere  to  Go \n"
     ]
    },
    {
     "data": {
      "text/plain": [
       "[]"
      ]
     },
     "execution_count": 15,
     "metadata": {},
     "output_type": "execute_result"
    }
   ],
   "source": [
    "map(lambda (nn): agentact(nn[0][0][0], title, 'is'), root)\n",
    "[]"
   ]
  }
 ],
 "metadata": {
  "kernelspec": {
   "display_name": "Python 2",
   "language": "python",
   "name": "python2"
  },
  "language_info": {
   "codemirror_mode": {
    "name": "ipython",
    "version": 2
   },
   "file_extension": ".py",
   "mimetype": "text/x-python",
   "name": "python",
   "nbconvert_exporter": "python",
   "pygments_lexer": "ipython2",
   "version": "2.7.10"
  }
 },
 "nbformat": 4,
 "nbformat_minor": 0
}
