{
 "cells": [
  {
   "cell_type": "markdown",
   "metadata": {},
   "source": [
    "# Lab 3: Joining Multiple Tables (Python & Pandas)"
   ]
  },
  {
   "cell_type": "markdown",
   "metadata": {},
   "source": [
    "In class, we've explored the power of tables as a data management abstraction, and we have already explored the Pandas DataFrame object in previous lab 2. Tables let us select rows and columns of interest, group data, and measure aggregates.\n",
    "\n",
    "But what happens when we have more than one table? Traditional relational databases usually contain many tables. Moreover, when integrating multiple data sets, we necessarily need tools to combine them.\n",
    "\n",
    "In this lab, we will use Panda's take on the database join operation to see how tables can be linked together. Specifically, we're going to perform a \"fuzzy join\" based on string edit-distance as another approach to finding duplicate records."
   ]
  },
  {
   "cell_type": "markdown",
   "metadata": {},
   "source": [
    "## Setup"
   ]
  },
  {
   "cell_type": "markdown",
   "metadata": {},
   "source": [
    "### This notebook"
   ]
  },
  {
   "cell_type": "markdown",
   "metadata": {},
   "source": [
    "Download this notebook so you can edit it. (If you are viewing it via nbviewer.ipython.org, then use the link in the upper right corner.) To edit this notebook, in your VM terminal, type \"ipython notebook\" and in your prompted brower, click the notebook file to open and edit it."
   ]
  },
  {
   "cell_type": "markdown",
   "metadata": {},
   "source": [
    "#### Data"
   ]
  },
  {
   "cell_type": "markdown",
   "metadata": {},
   "source": [
    "We'll be using a small data set of restaurants. Download the data from [here](https://ufl.instructure.com/courses/331578/files/folder/Lab%203). Put the data file, \"restaurants.csv\", in the same directory as this notebook."
   ]
  },
  {
   "cell_type": "markdown",
   "metadata": {
    "collapsed": true
   },
   "source": [
    "#### Edit Distance"
   ]
  },
  {
   "cell_type": "markdown",
   "metadata": {},
   "source": [
    "We're going to be using a string-similarity python library to compute \"edit distance\".\n",
    "\n",
    "To test that it works, the following should run OK:"
   ]
  },
  {
   "cell_type": "code",
   "execution_count": 1,
   "metadata": {
    "collapsed": false
   },
   "outputs": [],
   "source": [
    "import Levenshtein as L\n",
    "import pandas as pd"
   ]
  },
  {
   "cell_type": "markdown",
   "metadata": {},
   "source": [
    "## More Operations on DataFrame"
   ]
  },
  {
   "cell_type": "markdown",
   "metadata": {},
   "source": [
    "In previous lab, we have learned some basic operation on Pandas DataFrame, including row filtering (selection), column filtering (projection) and groupby.\n",
    "\n",
    "In this lab we first introduce some additional operation."
   ]
  },
  {
   "cell_type": "markdown",
   "metadata": {},
   "source": [
    "#### Aggregate"
   ]
  },
  {
   "cell_type": "markdown",
   "metadata": {},
   "source": [
    "You should probably know to do aggregates: Pandas use python's lambda functions to define the function, and 'apply' to use the function."
   ]
  },
  {
   "cell_type": "code",
   "execution_count": 2,
   "metadata": {
    "collapsed": false
   },
   "outputs": [
    {
     "data": {
      "text/html": [
       "<div>\n",
       "<table border=\"1\" class=\"dataframe\">\n",
       "  <thead>\n",
       "    <tr style=\"text-align: right;\">\n",
       "      <th></th>\n",
       "      <th>a</th>\n",
       "      <th>b</th>\n",
       "    </tr>\n",
       "  </thead>\n",
       "  <tbody>\n",
       "    <tr>\n",
       "      <th>0</th>\n",
       "      <td>1</td>\n",
       "      <td>x</td>\n",
       "    </tr>\n",
       "    <tr>\n",
       "      <th>1</th>\n",
       "      <td>2</td>\n",
       "      <td>x</td>\n",
       "    </tr>\n",
       "    <tr>\n",
       "      <th>2</th>\n",
       "      <td>1</td>\n",
       "      <td>y</td>\n",
       "    </tr>\n",
       "    <tr>\n",
       "      <th>3</th>\n",
       "      <td>2</td>\n",
       "      <td>y</td>\n",
       "    </tr>\n",
       "  </tbody>\n",
       "</table>\n",
       "</div>"
      ],
      "text/plain": [
       "   a  b\n",
       "0  1  x\n",
       "1  2  x\n",
       "2  1  y\n",
       "3  2  y"
      ]
     },
     "execution_count": 2,
     "metadata": {},
     "output_type": "execute_result"
    }
   ],
   "source": [
    "df = pd.DataFrame( { 'a' : [1, 2, 1, 2], 'b': [ 'x', 'x', 'y', 'y'] })\n",
    "df"
   ]
  },
  {
   "cell_type": "code",
   "execution_count": 3,
   "metadata": {
    "collapsed": false
   },
   "outputs": [
    {
     "data": {
      "text/html": [
       "<div>\n",
       "<table border=\"1\" class=\"dataframe\">\n",
       "  <thead>\n",
       "    <tr style=\"text-align: right;\">\n",
       "      <th></th>\n",
       "      <th>a</th>\n",
       "      <th>b</th>\n",
       "      <th>value</th>\n",
       "    </tr>\n",
       "  </thead>\n",
       "  <tbody>\n",
       "    <tr>\n",
       "      <th>0</th>\n",
       "      <td>1</td>\n",
       "      <td>x</td>\n",
       "      <td>1 + x</td>\n",
       "    </tr>\n",
       "    <tr>\n",
       "      <th>1</th>\n",
       "      <td>2</td>\n",
       "      <td>x</td>\n",
       "      <td>2 + x</td>\n",
       "    </tr>\n",
       "    <tr>\n",
       "      <th>2</th>\n",
       "      <td>1</td>\n",
       "      <td>y</td>\n",
       "      <td>1 + y</td>\n",
       "    </tr>\n",
       "    <tr>\n",
       "      <th>3</th>\n",
       "      <td>2</td>\n",
       "      <td>y</td>\n",
       "      <td>2 + y</td>\n",
       "    </tr>\n",
       "  </tbody>\n",
       "</table>\n",
       "</div>"
      ],
      "text/plain": [
       "   a  b  value\n",
       "0  1  x  1 + x\n",
       "1  2  x  2 + x\n",
       "2  1  y  1 + y\n",
       "3  2  y  2 + y"
      ]
     },
     "execution_count": 3,
     "metadata": {},
     "output_type": "execute_result"
    }
   ],
   "source": [
    "df['value'] = df.apply(lambda row: str(row.a) + ' + ' + row.b, axis=1)\n",
    "df"
   ]
  },
  {
   "cell_type": "markdown",
   "metadata": {},
   "source": [
    "#### pivot"
   ]
  },
  {
   "cell_type": "markdown",
   "metadata": {},
   "source": [
    "Suppose we want to reshape the above DataFrame, so that in the new DataFrame we can have an index of different values in 'a' column to identify rows, and unique values in 'b' as column names. We can use pivot function to achieve this:"
   ]
  },
  {
   "cell_type": "code",
   "execution_count": 4,
   "metadata": {
    "collapsed": false
   },
   "outputs": [
    {
     "data": {
      "text/html": [
       "<div>\n",
       "<table border=\"1\" class=\"dataframe\">\n",
       "  <thead>\n",
       "    <tr style=\"text-align: right;\">\n",
       "      <th>b</th>\n",
       "      <th>x</th>\n",
       "      <th>y</th>\n",
       "    </tr>\n",
       "    <tr>\n",
       "      <th>a</th>\n",
       "      <th></th>\n",
       "      <th></th>\n",
       "    </tr>\n",
       "  </thead>\n",
       "  <tbody>\n",
       "    <tr>\n",
       "      <th>1</th>\n",
       "      <td>1 + x</td>\n",
       "      <td>1 + y</td>\n",
       "    </tr>\n",
       "    <tr>\n",
       "      <th>2</th>\n",
       "      <td>2 + x</td>\n",
       "      <td>2 + y</td>\n",
       "    </tr>\n",
       "  </tbody>\n",
       "</table>\n",
       "</div>"
      ],
      "text/plain": [
       "b      x      y\n",
       "a              \n",
       "1  1 + x  1 + y\n",
       "2  2 + x  2 + y"
      ]
     },
     "execution_count": 4,
     "metadata": {},
     "output_type": "execute_result"
    }
   ],
   "source": [
    "new_df = df.pivot(index='a', columns='b', values='value')\n",
    "new_df"
   ]
  },
  {
   "cell_type": "markdown",
   "metadata": {},
   "source": [
    "## Joins"
   ]
  },
  {
   "cell_type": "markdown",
   "metadata": {},
   "source": [
    "A join is a way to connect rows in two different data tables based on some criteria. Suppose the university has a database for student records with two tables in it: Students and Grades."
   ]
  },
  {
   "cell_type": "code",
   "execution_count": 5,
   "metadata": {
    "collapsed": false
   },
   "outputs": [
    {
     "data": {
      "text/html": [
       "<div>\n",
       "<table border=\"1\" class=\"dataframe\">\n",
       "  <thead>\n",
       "    <tr style=\"text-align: right;\">\n",
       "      <th></th>\n",
       "      <th>name</th>\n",
       "      <th>student_id</th>\n",
       "    </tr>\n",
       "  </thead>\n",
       "  <tbody>\n",
       "    <tr>\n",
       "      <th>0</th>\n",
       "      <td>Alice</td>\n",
       "      <td>1</td>\n",
       "    </tr>\n",
       "    <tr>\n",
       "      <th>1</th>\n",
       "      <td>Bob</td>\n",
       "      <td>2</td>\n",
       "    </tr>\n",
       "  </tbody>\n",
       "</table>\n",
       "</div>"
      ],
      "text/plain": [
       "    name  student_id\n",
       "0  Alice           1\n",
       "1    Bob           2"
      ]
     },
     "execution_count": 5,
     "metadata": {},
     "output_type": "execute_result"
    }
   ],
   "source": [
    "Students = pd.DataFrame({'student_id': [1, 2], 'name': ['Alice', 'Bob']})\n",
    "Students"
   ]
  },
  {
   "cell_type": "code",
   "execution_count": 6,
   "metadata": {
    "collapsed": false
   },
   "outputs": [
    {
     "data": {
      "text/html": [
       "<div>\n",
       "<table border=\"1\" class=\"dataframe\">\n",
       "  <thead>\n",
       "    <tr style=\"text-align: right;\">\n",
       "      <th></th>\n",
       "      <th>class_id</th>\n",
       "      <th>grade</th>\n",
       "      <th>student_id</th>\n",
       "    </tr>\n",
       "  </thead>\n",
       "  <tbody>\n",
       "    <tr>\n",
       "      <th>0</th>\n",
       "      <td>1</td>\n",
       "      <td>A</td>\n",
       "      <td>1</td>\n",
       "    </tr>\n",
       "    <tr>\n",
       "      <th>1</th>\n",
       "      <td>2</td>\n",
       "      <td>C</td>\n",
       "      <td>1</td>\n",
       "    </tr>\n",
       "    <tr>\n",
       "      <th>2</th>\n",
       "      <td>1</td>\n",
       "      <td>B</td>\n",
       "      <td>2</td>\n",
       "    </tr>\n",
       "    <tr>\n",
       "      <th>3</th>\n",
       "      <td>3</td>\n",
       "      <td>B</td>\n",
       "      <td>2</td>\n",
       "    </tr>\n",
       "  </tbody>\n",
       "</table>\n",
       "</div>"
      ],
      "text/plain": [
       "   class_id grade  student_id\n",
       "0         1     A           1\n",
       "1         2     C           1\n",
       "2         1     B           2\n",
       "3         3     B           2"
      ]
     },
     "execution_count": 6,
     "metadata": {},
     "output_type": "execute_result"
    }
   ],
   "source": [
    "Grades = pd.DataFrame({'student_id': [1, 1, 2, 2], 'class_id': [1, 2, 1, 3], 'grade': ['A', 'C', 'B', 'B']})\n",
    "Grades"
   ]
  },
  {
   "cell_type": "markdown",
   "metadata": {},
   "source": [
    "Let's say we want to know all of Bob's grades. Then, we can look up Bob's student ID in the Students table, and with the ID, look up his grades in the Grades table. Joins naturally express this process: when two tables share a common type of column (student ID in this case), we can join the tables together to get a complete view.\n",
    "\n",
    "In Pandas, we can use the merge method to perform a join. Pass the two tables to join as the first arguments, then the \"on\" parameter is set to the join column name."
   ]
  },
  {
   "cell_type": "code",
   "execution_count": 7,
   "metadata": {
    "collapsed": false
   },
   "outputs": [
    {
     "data": {
      "text/html": [
       "<div>\n",
       "<table border=\"1\" class=\"dataframe\">\n",
       "  <thead>\n",
       "    <tr style=\"text-align: right;\">\n",
       "      <th></th>\n",
       "      <th>name</th>\n",
       "      <th>student_id</th>\n",
       "      <th>class_id</th>\n",
       "      <th>grade</th>\n",
       "    </tr>\n",
       "  </thead>\n",
       "  <tbody>\n",
       "    <tr>\n",
       "      <th>0</th>\n",
       "      <td>Alice</td>\n",
       "      <td>1</td>\n",
       "      <td>1</td>\n",
       "      <td>A</td>\n",
       "    </tr>\n",
       "    <tr>\n",
       "      <th>1</th>\n",
       "      <td>Alice</td>\n",
       "      <td>1</td>\n",
       "      <td>2</td>\n",
       "      <td>C</td>\n",
       "    </tr>\n",
       "    <tr>\n",
       "      <th>2</th>\n",
       "      <td>Bob</td>\n",
       "      <td>2</td>\n",
       "      <td>1</td>\n",
       "      <td>B</td>\n",
       "    </tr>\n",
       "    <tr>\n",
       "      <th>3</th>\n",
       "      <td>Bob</td>\n",
       "      <td>2</td>\n",
       "      <td>3</td>\n",
       "      <td>B</td>\n",
       "    </tr>\n",
       "  </tbody>\n",
       "</table>\n",
       "</div>"
      ],
      "text/plain": [
       "    name  student_id  class_id grade\n",
       "0  Alice           1         1     A\n",
       "1  Alice           1         2     C\n",
       "2    Bob           2         1     B\n",
       "3    Bob           2         3     B"
      ]
     },
     "execution_count": 7,
     "metadata": {},
     "output_type": "execute_result"
    }
   ],
   "source": [
    "Stu_Grade = pd.merge(Students,Grades,on = 'student_id')\n",
    "Stu_Grade"
   ]
  },
  {
   "cell_type": "markdown",
   "metadata": {
    "collapsed": true
   },
   "source": [
    "**Question 1**\n",
    "\n",
    "Use merge to join Grades with the Classes table below, and find out what class Alice got an A in."
   ]
  },
  {
   "cell_type": "code",
   "execution_count": 8,
   "metadata": {
    "collapsed": false
   },
   "outputs": [
    {
     "data": {
      "text/html": [
       "<div>\n",
       "<table border=\"1\" class=\"dataframe\">\n",
       "  <thead>\n",
       "    <tr style=\"text-align: right;\">\n",
       "      <th></th>\n",
       "      <th>class_id</th>\n",
       "      <th>title</th>\n",
       "    </tr>\n",
       "  </thead>\n",
       "  <tbody>\n",
       "    <tr>\n",
       "      <th>0</th>\n",
       "      <td>1</td>\n",
       "      <td>Math</td>\n",
       "    </tr>\n",
       "    <tr>\n",
       "      <th>1</th>\n",
       "      <td>2</td>\n",
       "      <td>English</td>\n",
       "    </tr>\n",
       "    <tr>\n",
       "      <th>2</th>\n",
       "      <td>3</td>\n",
       "      <td>Spanish</td>\n",
       "    </tr>\n",
       "  </tbody>\n",
       "</table>\n",
       "</div>"
      ],
      "text/plain": [
       "   class_id    title\n",
       "0         1     Math\n",
       "1         2  English\n",
       "2         3  Spanish"
      ]
     },
     "execution_count": 8,
     "metadata": {},
     "output_type": "execute_result"
    }
   ],
   "source": [
    "Classes = pd.DataFrame({'class_id': [1, 2, 3], 'title': ['Math', 'English', 'Spanish']})\n",
    "Classes"
   ]
  },
  {
   "cell_type": "code",
   "execution_count": 9,
   "metadata": {
    "collapsed": true
   },
   "outputs": [],
   "source": [
    "Stu_Grade_Class = pd.merge(Stu_Grade,Classes,on='class_id')"
   ]
  },
  {
   "cell_type": "code",
   "execution_count": 10,
   "metadata": {
    "collapsed": false
   },
   "outputs": [
    {
     "data": {
      "text/html": [
       "<div>\n",
       "<table border=\"1\" class=\"dataframe\">\n",
       "  <thead>\n",
       "    <tr style=\"text-align: right;\">\n",
       "      <th></th>\n",
       "      <th>name</th>\n",
       "      <th>student_id</th>\n",
       "      <th>class_id</th>\n",
       "      <th>grade</th>\n",
       "      <th>title</th>\n",
       "    </tr>\n",
       "  </thead>\n",
       "  <tbody>\n",
       "    <tr>\n",
       "      <th>0</th>\n",
       "      <td>Alice</td>\n",
       "      <td>1</td>\n",
       "      <td>1</td>\n",
       "      <td>A</td>\n",
       "      <td>Math</td>\n",
       "    </tr>\n",
       "    <tr>\n",
       "      <th>1</th>\n",
       "      <td>Bob</td>\n",
       "      <td>2</td>\n",
       "      <td>1</td>\n",
       "      <td>B</td>\n",
       "      <td>Math</td>\n",
       "    </tr>\n",
       "    <tr>\n",
       "      <th>2</th>\n",
       "      <td>Alice</td>\n",
       "      <td>1</td>\n",
       "      <td>2</td>\n",
       "      <td>C</td>\n",
       "      <td>English</td>\n",
       "    </tr>\n",
       "    <tr>\n",
       "      <th>3</th>\n",
       "      <td>Bob</td>\n",
       "      <td>2</td>\n",
       "      <td>3</td>\n",
       "      <td>B</td>\n",
       "      <td>Spanish</td>\n",
       "    </tr>\n",
       "  </tbody>\n",
       "</table>\n",
       "</div>"
      ],
      "text/plain": [
       "    name  student_id  class_id grade    title\n",
       "0  Alice           1         1     A     Math\n",
       "1    Bob           2         1     B     Math\n",
       "2  Alice           1         2     C  English\n",
       "3    Bob           2         3     B  Spanish"
      ]
     },
     "execution_count": 10,
     "metadata": {},
     "output_type": "execute_result"
    }
   ],
   "source": [
    "Stu_Grade_Class"
   ]
  },
  {
   "cell_type": "code",
   "execution_count": 11,
   "metadata": {
    "collapsed": false
   },
   "outputs": [
    {
     "data": {
      "text/html": [
       "<div>\n",
       "<table border=\"1\" class=\"dataframe\">\n",
       "  <thead>\n",
       "    <tr style=\"text-align: right;\">\n",
       "      <th></th>\n",
       "      <th>name</th>\n",
       "      <th>student_id</th>\n",
       "      <th>class_id</th>\n",
       "      <th>grade</th>\n",
       "      <th>title</th>\n",
       "    </tr>\n",
       "  </thead>\n",
       "  <tbody>\n",
       "    <tr>\n",
       "      <th>0</th>\n",
       "      <td>Alice</td>\n",
       "      <td>1</td>\n",
       "      <td>1</td>\n",
       "      <td>A</td>\n",
       "      <td>Math</td>\n",
       "    </tr>\n",
       "  </tbody>\n",
       "</table>\n",
       "</div>"
      ],
      "text/plain": [
       "    name  student_id  class_id grade title\n",
       "0  Alice           1         1     A  Math"
      ]
     },
     "execution_count": 11,
     "metadata": {},
     "output_type": "execute_result"
    }
   ],
   "source": [
    "Alice = Stu_Grade_Class[(Stu_Grade_Class['name'] == 'Alice') & (Stu_Grade_Class['grade'] == 'A')]\n",
    "Alice"
   ]
  },
  {
   "cell_type": "markdown",
   "metadata": {},
   "source": [
    "**Question 2**\n",
    "\n",
    "Suppose we want to get students' grades for each class in a more straightforward way, and decide to get a Dataframe that: \n",
    "\n",
    "1. has one row for each student name, \n",
    "2. different class titles as columns names,\n",
    "3. the grades of students in different classes as the values (NaN if not applicable).\n",
    "\n",
    "how do we get such a DataFrame?"
   ]
  },
  {
   "cell_type": "code",
   "execution_count": 12,
   "metadata": {
    "collapsed": false
   },
   "outputs": [
    {
     "data": {
      "text/html": [
       "<div>\n",
       "<table border=\"1\" class=\"dataframe\">\n",
       "  <thead>\n",
       "    <tr style=\"text-align: right;\">\n",
       "      <th>name</th>\n",
       "      <th>Alice</th>\n",
       "      <th>Bob</th>\n",
       "    </tr>\n",
       "    <tr>\n",
       "      <th>title</th>\n",
       "      <th></th>\n",
       "      <th></th>\n",
       "    </tr>\n",
       "  </thead>\n",
       "  <tbody>\n",
       "    <tr>\n",
       "      <th>English</th>\n",
       "      <td>C</td>\n",
       "      <td>NaN</td>\n",
       "    </tr>\n",
       "    <tr>\n",
       "      <th>Math</th>\n",
       "      <td>A</td>\n",
       "      <td>B</td>\n",
       "    </tr>\n",
       "    <tr>\n",
       "      <th>Spanish</th>\n",
       "      <td>NaN</td>\n",
       "      <td>B</td>\n",
       "    </tr>\n",
       "  </tbody>\n",
       "</table>\n",
       "</div>"
      ],
      "text/plain": [
       "name    Alice  Bob\n",
       "title             \n",
       "English     C  NaN\n",
       "Math        A    B\n",
       "Spanish   NaN    B"
      ]
     },
     "execution_count": 12,
     "metadata": {},
     "output_type": "execute_result"
    }
   ],
   "source": [
    "new_Stu_Grade_Class = Stu_Grade_Class.pivot(index = 'title', columns = 'name', values = 'grade')\n",
    "new_Stu_Grade_Class"
   ]
  },
  {
   "cell_type": "markdown",
   "metadata": {},
   "source": [
    "## Joining the Restaurant Data"
   ]
  },
  {
   "cell_type": "markdown",
   "metadata": {},
   "source": [
    "Now let's load the restaurant data that we will be analyzing:"
   ]
  },
  {
   "cell_type": "code",
   "execution_count": 13,
   "metadata": {
    "collapsed": false
   },
   "outputs": [
    {
     "name": "stdout",
     "output_type": "stream",
     "text": [
      "<class 'pandas.core.frame.DataFrame'>\n",
      "Int64Index: 858 entries, 0 to 857\n",
      "Data columns (total 4 columns):\n",
      "id         858 non-null int64\n",
      "cluster    858 non-null int64\n",
      "name       858 non-null object\n",
      "city       858 non-null object\n",
      "dtypes: int64(2), object(2)\n",
      "memory usage: 33.5+ KB\n"
     ]
    }
   ],
   "source": [
    "resto = pd.read_csv('restaurants.csv')\n",
    "resto.info()"
   ]
  },
  {
   "cell_type": "code",
   "execution_count": 14,
   "metadata": {
    "collapsed": false
   },
   "outputs": [
    {
     "data": {
      "text/html": [
       "<div>\n",
       "<table border=\"1\" class=\"dataframe\">\n",
       "  <thead>\n",
       "    <tr style=\"text-align: right;\">\n",
       "      <th></th>\n",
       "      <th>id</th>\n",
       "      <th>cluster</th>\n",
       "      <th>name</th>\n",
       "      <th>city</th>\n",
       "    </tr>\n",
       "  </thead>\n",
       "  <tbody>\n",
       "    <tr>\n",
       "      <th>0</th>\n",
       "      <td>560</td>\n",
       "      <td>453</td>\n",
       "      <td>2223</td>\n",
       "      <td>san francisco</td>\n",
       "    </tr>\n",
       "    <tr>\n",
       "      <th>1</th>\n",
       "      <td>781</td>\n",
       "      <td>675</td>\n",
       "      <td>103 west</td>\n",
       "      <td>atlanta</td>\n",
       "    </tr>\n",
       "    <tr>\n",
       "      <th>2</th>\n",
       "      <td>279</td>\n",
       "      <td>172</td>\n",
       "      <td>20 mott</td>\n",
       "      <td>new york</td>\n",
       "    </tr>\n",
       "    <tr>\n",
       "      <th>3</th>\n",
       "      <td>43</td>\n",
       "      <td>23</td>\n",
       "      <td>21 club</td>\n",
       "      <td>new york</td>\n",
       "    </tr>\n",
       "    <tr>\n",
       "      <th>4</th>\n",
       "      <td>44</td>\n",
       "      <td>23</td>\n",
       "      <td>21 club</td>\n",
       "      <td>new york city</td>\n",
       "    </tr>\n",
       "    <tr>\n",
       "      <th>5</th>\n",
       "      <td>280</td>\n",
       "      <td>173</td>\n",
       "      <td>9 jones street</td>\n",
       "      <td>new york</td>\n",
       "    </tr>\n",
       "    <tr>\n",
       "      <th>6</th>\n",
       "      <td>486</td>\n",
       "      <td>379</td>\n",
       "      <td>abbey</td>\n",
       "      <td>atlanta</td>\n",
       "    </tr>\n",
       "    <tr>\n",
       "      <th>7</th>\n",
       "      <td>145</td>\n",
       "      <td>74</td>\n",
       "      <td>abruzzi</td>\n",
       "      <td>atlanta</td>\n",
       "    </tr>\n",
       "    <tr>\n",
       "      <th>8</th>\n",
       "      <td>146</td>\n",
       "      <td>74</td>\n",
       "      <td>abruzzi</td>\n",
       "      <td>atlanta</td>\n",
       "    </tr>\n",
       "    <tr>\n",
       "      <th>9</th>\n",
       "      <td>561</td>\n",
       "      <td>454</td>\n",
       "      <td>acquarello</td>\n",
       "      <td>san francisco</td>\n",
       "    </tr>\n",
       "  </tbody>\n",
       "</table>\n",
       "</div>"
      ],
      "text/plain": [
       "    id  cluster            name           city\n",
       "0  560      453            2223  san francisco\n",
       "1  781      675        103 west        atlanta\n",
       "2  279      172         20 mott       new york\n",
       "3   43       23         21 club       new york\n",
       "4   44       23         21 club  new york city\n",
       "5  280      173  9 jones street       new york\n",
       "6  486      379           abbey        atlanta\n",
       "7  145       74         abruzzi        atlanta\n",
       "8  146       74         abruzzi        atlanta\n",
       "9  561      454      acquarello  san francisco"
      ]
     },
     "execution_count": 14,
     "metadata": {},
     "output_type": "execute_result"
    }
   ],
   "source": [
    "resto[:10]"
   ]
  },
  {
   "cell_type": "markdown",
   "metadata": {},
   "source": [
    "The restaurant data has four columns. **id** is a unique ID field (unique for each row), **name** is the name of the restaurant, and **city** is where it is located. The **name** and **city** columns are noisy and not very accurate.\n",
    "\n",
    "However the **cluster** column is a \"gold standard\" column. If two records have the same cluster, that means they are both about the same restaurant.\n",
    "\n",
    "The type of join we made above between Students and Grades, where we link records with equal values in a common column, is called an **equijoin**. Equijoins may join on more than one column, too (both values have to match).\n",
    "\n",
    "Let's use an equijoin to find pairs of duplicate restaurant records. We join the data to itself, on the cluster column.\n",
    "\n",
    "The result (\"clusters\" below) has a lot of extra records in it. For example, since we're joining a table to itself, every record matches itself. We can filter on IDs to get rid of these extra join results. Note that when Pandas joins two tables that have columns with the same name, it appends \"_x\" and \"_y\" to the names to distinguish them."
   ]
  },
  {
   "cell_type": "code",
   "execution_count": 15,
   "metadata": {
    "collapsed": false
   },
   "outputs": [
    {
     "data": {
      "text/html": [
       "<div>\n",
       "<table border=\"1\" class=\"dataframe\">\n",
       "  <thead>\n",
       "    <tr style=\"text-align: right;\">\n",
       "      <th></th>\n",
       "      <th>id_x</th>\n",
       "      <th>cluster</th>\n",
       "      <th>name_x</th>\n",
       "      <th>city_x</th>\n",
       "      <th>id_y</th>\n",
       "      <th>name_y</th>\n",
       "      <th>city_y</th>\n",
       "    </tr>\n",
       "  </thead>\n",
       "  <tbody>\n",
       "    <tr>\n",
       "      <th>4</th>\n",
       "      <td>43</td>\n",
       "      <td>23</td>\n",
       "      <td>21 club</td>\n",
       "      <td>new york</td>\n",
       "      <td>44</td>\n",
       "      <td>21 club</td>\n",
       "      <td>new york city</td>\n",
       "    </tr>\n",
       "    <tr>\n",
       "      <th>5</th>\n",
       "      <td>44</td>\n",
       "      <td>23</td>\n",
       "      <td>21 club</td>\n",
       "      <td>new york city</td>\n",
       "      <td>43</td>\n",
       "      <td>21 club</td>\n",
       "      <td>new york</td>\n",
       "    </tr>\n",
       "    <tr>\n",
       "      <th>10</th>\n",
       "      <td>145</td>\n",
       "      <td>74</td>\n",
       "      <td>abruzzi</td>\n",
       "      <td>atlanta</td>\n",
       "      <td>146</td>\n",
       "      <td>abruzzi</td>\n",
       "      <td>atlanta</td>\n",
       "    </tr>\n",
       "    <tr>\n",
       "      <th>11</th>\n",
       "      <td>146</td>\n",
       "      <td>74</td>\n",
       "      <td>abruzzi</td>\n",
       "      <td>atlanta</td>\n",
       "      <td>145</td>\n",
       "      <td>abruzzi</td>\n",
       "      <td>atlanta</td>\n",
       "    </tr>\n",
       "    <tr>\n",
       "      <th>20</th>\n",
       "      <td>184</td>\n",
       "      <td>94</td>\n",
       "      <td>alain rondelli</td>\n",
       "      <td>san francisco</td>\n",
       "      <td>185</td>\n",
       "      <td>alain rondelli</td>\n",
       "      <td>san francisco</td>\n",
       "    </tr>\n",
       "    <tr>\n",
       "      <th>21</th>\n",
       "      <td>185</td>\n",
       "      <td>94</td>\n",
       "      <td>alain rondelli</td>\n",
       "      <td>san francisco</td>\n",
       "      <td>184</td>\n",
       "      <td>alain rondelli</td>\n",
       "      <td>san francisco</td>\n",
       "    </tr>\n",
       "    <tr>\n",
       "      <th>36</th>\n",
       "      <td>186</td>\n",
       "      <td>95</td>\n",
       "      <td>aqua</td>\n",
       "      <td>san francisco</td>\n",
       "      <td>187</td>\n",
       "      <td>aqua</td>\n",
       "      <td>san francisco</td>\n",
       "    </tr>\n",
       "    <tr>\n",
       "      <th>37</th>\n",
       "      <td>187</td>\n",
       "      <td>95</td>\n",
       "      <td>aqua</td>\n",
       "      <td>san francisco</td>\n",
       "      <td>186</td>\n",
       "      <td>aqua</td>\n",
       "      <td>san francisco</td>\n",
       "    </tr>\n",
       "    <tr>\n",
       "      <th>40</th>\n",
       "      <td>45</td>\n",
       "      <td>24</td>\n",
       "      <td>aquavit</td>\n",
       "      <td>new york</td>\n",
       "      <td>46</td>\n",
       "      <td>aquavit</td>\n",
       "      <td>new york city</td>\n",
       "    </tr>\n",
       "    <tr>\n",
       "      <th>41</th>\n",
       "      <td>46</td>\n",
       "      <td>24</td>\n",
       "      <td>aquavit</td>\n",
       "      <td>new york city</td>\n",
       "      <td>45</td>\n",
       "      <td>aquavit</td>\n",
       "      <td>new york</td>\n",
       "    </tr>\n",
       "  </tbody>\n",
       "</table>\n",
       "</div>"
      ],
      "text/plain": [
       "    id_x  cluster          name_x         city_x  id_y          name_y  \\\n",
       "4     43       23         21 club       new york    44         21 club   \n",
       "5     44       23         21 club  new york city    43         21 club   \n",
       "10   145       74         abruzzi        atlanta   146         abruzzi   \n",
       "11   146       74         abruzzi        atlanta   145         abruzzi   \n",
       "20   184       94  alain rondelli  san francisco   185  alain rondelli   \n",
       "21   185       94  alain rondelli  san francisco   184  alain rondelli   \n",
       "36   186       95            aqua  san francisco   187            aqua   \n",
       "37   187       95            aqua  san francisco   186            aqua   \n",
       "40    45       24         aquavit       new york    46         aquavit   \n",
       "41    46       24         aquavit  new york city    45         aquavit   \n",
       "\n",
       "           city_y  \n",
       "4   new york city  \n",
       "5        new york  \n",
       "10        atlanta  \n",
       "11        atlanta  \n",
       "20  san francisco  \n",
       "21  san francisco  \n",
       "36  san francisco  \n",
       "37  san francisco  \n",
       "40  new york city  \n",
       "41       new york  "
      ]
     },
     "execution_count": 15,
     "metadata": {},
     "output_type": "execute_result"
    }
   ],
   "source": [
    "clusters = pd.merge(resto, resto, on='cluster')\n",
    "clusters = clusters[clusters.id_x != clusters.id_y]\n",
    "clusters[:10]"
   ]
  },
  {
   "cell_type": "markdown",
   "metadata": {},
   "source": [
    "There are still redundant records in 'clusters' above: if records A and B match each other, then we will get both (A, B) and (B, A) in the output, this is redundant since we don't care about the order of A and B.\n",
    "\n",
    "Filter clusters so that we only keep one instance of each matching pair (HINT: use the IDs again)."
   ]
  },
  {
   "cell_type": "code",
   "execution_count": 16,
   "metadata": {
    "collapsed": false
   },
   "outputs": [
    {
     "data": {
      "text/html": [
       "<div>\n",
       "<table border=\"1\" class=\"dataframe\">\n",
       "  <thead>\n",
       "    <tr style=\"text-align: right;\">\n",
       "      <th></th>\n",
       "      <th>id_x</th>\n",
       "      <th>cluster</th>\n",
       "      <th>name_x</th>\n",
       "      <th>city_x</th>\n",
       "      <th>id_y</th>\n",
       "      <th>name_y</th>\n",
       "      <th>city_y</th>\n",
       "    </tr>\n",
       "  </thead>\n",
       "  <tbody>\n",
       "    <tr>\n",
       "      <th>5</th>\n",
       "      <td>44</td>\n",
       "      <td>23</td>\n",
       "      <td>21 club</td>\n",
       "      <td>new york city</td>\n",
       "      <td>43</td>\n",
       "      <td>21 club</td>\n",
       "      <td>new york</td>\n",
       "    </tr>\n",
       "    <tr>\n",
       "      <th>11</th>\n",
       "      <td>146</td>\n",
       "      <td>74</td>\n",
       "      <td>abruzzi</td>\n",
       "      <td>atlanta</td>\n",
       "      <td>145</td>\n",
       "      <td>abruzzi</td>\n",
       "      <td>atlanta</td>\n",
       "    </tr>\n",
       "    <tr>\n",
       "      <th>21</th>\n",
       "      <td>185</td>\n",
       "      <td>94</td>\n",
       "      <td>alain rondelli</td>\n",
       "      <td>san francisco</td>\n",
       "      <td>184</td>\n",
       "      <td>alain rondelli</td>\n",
       "      <td>san francisco</td>\n",
       "    </tr>\n",
       "    <tr>\n",
       "      <th>37</th>\n",
       "      <td>187</td>\n",
       "      <td>95</td>\n",
       "      <td>aqua</td>\n",
       "      <td>san francisco</td>\n",
       "      <td>186</td>\n",
       "      <td>aqua</td>\n",
       "      <td>san francisco</td>\n",
       "    </tr>\n",
       "    <tr>\n",
       "      <th>41</th>\n",
       "      <td>46</td>\n",
       "      <td>24</td>\n",
       "      <td>aquavit</td>\n",
       "      <td>new york city</td>\n",
       "      <td>45</td>\n",
       "      <td>aquavit</td>\n",
       "      <td>new york</td>\n",
       "    </tr>\n",
       "    <tr>\n",
       "      <th>47</th>\n",
       "      <td>2</td>\n",
       "      <td>0</td>\n",
       "      <td>arnie morton's of chicago</td>\n",
       "      <td>los angeles</td>\n",
       "      <td>1</td>\n",
       "      <td>arnie morton's of chicago</td>\n",
       "      <td>los angeles</td>\n",
       "    </tr>\n",
       "    <tr>\n",
       "      <th>50</th>\n",
       "      <td>4</td>\n",
       "      <td>1</td>\n",
       "      <td>art's deli</td>\n",
       "      <td>studio city</td>\n",
       "      <td>3</td>\n",
       "      <td>art's delicatessen</td>\n",
       "      <td>studio city</td>\n",
       "    </tr>\n",
       "    <tr>\n",
       "      <th>59</th>\n",
       "      <td>48</td>\n",
       "      <td>25</td>\n",
       "      <td>aureole</td>\n",
       "      <td>new york city</td>\n",
       "      <td>47</td>\n",
       "      <td>aureole</td>\n",
       "      <td>new york</td>\n",
       "    </tr>\n",
       "    <tr>\n",
       "      <th>63</th>\n",
       "      <td>148</td>\n",
       "      <td>75</td>\n",
       "      <td>bacchanalia</td>\n",
       "      <td>atlanta</td>\n",
       "      <td>147</td>\n",
       "      <td>bacchanalia</td>\n",
       "      <td>atlanta</td>\n",
       "    </tr>\n",
       "    <tr>\n",
       "      <th>78</th>\n",
       "      <td>6</td>\n",
       "      <td>2</td>\n",
       "      <td>bel-air hotel</td>\n",
       "      <td>bel air</td>\n",
       "      <td>5</td>\n",
       "      <td>hotel bel-air</td>\n",
       "      <td>bel air</td>\n",
       "    </tr>\n",
       "  </tbody>\n",
       "</table>\n",
       "</div>"
      ],
      "text/plain": [
       "    id_x  cluster                     name_x         city_x  id_y  \\\n",
       "5     44       23                    21 club  new york city    43   \n",
       "11   146       74                    abruzzi        atlanta   145   \n",
       "21   185       94             alain rondelli  san francisco   184   \n",
       "37   187       95                       aqua  san francisco   186   \n",
       "41    46       24                    aquavit  new york city    45   \n",
       "47     2        0  arnie morton's of chicago    los angeles     1   \n",
       "50     4        1                 art's deli    studio city     3   \n",
       "59    48       25                    aureole  new york city    47   \n",
       "63   148       75                bacchanalia        atlanta   147   \n",
       "78     6        2              bel-air hotel        bel air     5   \n",
       "\n",
       "                       name_y         city_y  \n",
       "5                     21 club       new york  \n",
       "11                    abruzzi        atlanta  \n",
       "21             alain rondelli  san francisco  \n",
       "37                       aqua  san francisco  \n",
       "41                    aquavit       new york  \n",
       "47  arnie morton's of chicago    los angeles  \n",
       "50         art's delicatessen    studio city  \n",
       "59                    aureole       new york  \n",
       "63                bacchanalia        atlanta  \n",
       "78              hotel bel-air        bel air  "
      ]
     },
     "execution_count": 16,
     "metadata": {},
     "output_type": "execute_result"
    }
   ],
   "source": [
    "clusters = clusters[clusters.id_x > clusters.id_y]\n",
    "clusters[:10]"
   ]
  },
  {
   "cell_type": "markdown",
   "metadata": {},
   "source": [
    "## Fuzzy Joins"
   ]
  },
  {
   "cell_type": "markdown",
   "metadata": {},
   "source": [
    "Sometimes an equijoin isn't good enough.\n",
    "\n",
    "Say you want to match up records that are almost equal in a column. Or where a function of a columns is equal. Or maybe you don't care about equality: maybe \"less than\" or \"greater than or equal to\" is what you want. These cases call for a more general join than equijoin.\n",
    "\n",
    "We are going to make one of these joins between the restaurants data and itself. Specifically, we want to match up pairs of records whose restaurant names are almost the same. We call this a **fuzzy join**.\n",
    "\n",
    "To do a fuzzy join in Pandas we need to go about it in a few steps:\n",
    "\n",
    "1. Join every record in the first table with every record in the second table. This is called the **Cartesian product** of the tables, and it's simply a list of all possible pairs of records.\n",
    "2. Add a column to the Cartesian product that measures how \"similar\" each pair of records is. This is our **join criterion**.\n",
    "3. Filter the Cartesian product based on when the join criterion is \"similar enough.\"\n",
    "\n",
    "Let's do an example to get the hang of it."
   ]
  },
  {
   "cell_type": "markdown",
   "metadata": {},
   "source": [
    "##### 1. Join every record in the first table with every record in the second table."
   ]
  },
  {
   "cell_type": "markdown",
   "metadata": {},
   "source": [
    "We use a \"dummy\" column to compute the Cartesian product of the data with itself. dummy takes the same value for every record, so we can do an equijoin and get back all pairs."
   ]
  },
  {
   "cell_type": "code",
   "execution_count": 17,
   "metadata": {
    "collapsed": false
   },
   "outputs": [
    {
     "name": "stdout",
     "output_type": "stream",
     "text": [
      "736164 736164\n"
     ]
    }
   ],
   "source": [
    "resto['dummy'] = 0\n",
    "prod = pd.merge(resto, resto, on='dummy')\n",
    "\n",
    "# Clean up\n",
    "del prod['dummy']\n",
    "del resto['dummy']\n",
    "\n",
    "# Show that prod is the size of \"resto\" squared:\n",
    "print len(prod), len(resto)**2"
   ]
  },
  {
   "cell_type": "code",
   "execution_count": 18,
   "metadata": {
    "collapsed": false
   },
   "outputs": [
    {
     "data": {
      "text/html": [
       "<div>\n",
       "<table border=\"1\" class=\"dataframe\">\n",
       "  <thead>\n",
       "    <tr style=\"text-align: right;\">\n",
       "      <th></th>\n",
       "      <th>id_x</th>\n",
       "      <th>cluster_x</th>\n",
       "      <th>name_x</th>\n",
       "      <th>city_x</th>\n",
       "      <th>id_y</th>\n",
       "      <th>cluster_y</th>\n",
       "      <th>name_y</th>\n",
       "      <th>city_y</th>\n",
       "    </tr>\n",
       "  </thead>\n",
       "  <tbody>\n",
       "    <tr>\n",
       "      <th>0</th>\n",
       "      <td>560</td>\n",
       "      <td>453</td>\n",
       "      <td>2223</td>\n",
       "      <td>san francisco</td>\n",
       "      <td>560</td>\n",
       "      <td>453</td>\n",
       "      <td>2223</td>\n",
       "      <td>san francisco</td>\n",
       "    </tr>\n",
       "    <tr>\n",
       "      <th>1</th>\n",
       "      <td>560</td>\n",
       "      <td>453</td>\n",
       "      <td>2223</td>\n",
       "      <td>san francisco</td>\n",
       "      <td>781</td>\n",
       "      <td>675</td>\n",
       "      <td>103 west</td>\n",
       "      <td>atlanta</td>\n",
       "    </tr>\n",
       "    <tr>\n",
       "      <th>2</th>\n",
       "      <td>560</td>\n",
       "      <td>453</td>\n",
       "      <td>2223</td>\n",
       "      <td>san francisco</td>\n",
       "      <td>279</td>\n",
       "      <td>172</td>\n",
       "      <td>20 mott</td>\n",
       "      <td>new york</td>\n",
       "    </tr>\n",
       "    <tr>\n",
       "      <th>3</th>\n",
       "      <td>560</td>\n",
       "      <td>453</td>\n",
       "      <td>2223</td>\n",
       "      <td>san francisco</td>\n",
       "      <td>43</td>\n",
       "      <td>23</td>\n",
       "      <td>21 club</td>\n",
       "      <td>new york</td>\n",
       "    </tr>\n",
       "    <tr>\n",
       "      <th>4</th>\n",
       "      <td>560</td>\n",
       "      <td>453</td>\n",
       "      <td>2223</td>\n",
       "      <td>san francisco</td>\n",
       "      <td>44</td>\n",
       "      <td>23</td>\n",
       "      <td>21 club</td>\n",
       "      <td>new york city</td>\n",
       "    </tr>\n",
       "    <tr>\n",
       "      <th>5</th>\n",
       "      <td>560</td>\n",
       "      <td>453</td>\n",
       "      <td>2223</td>\n",
       "      <td>san francisco</td>\n",
       "      <td>280</td>\n",
       "      <td>173</td>\n",
       "      <td>9 jones street</td>\n",
       "      <td>new york</td>\n",
       "    </tr>\n",
       "    <tr>\n",
       "      <th>6</th>\n",
       "      <td>560</td>\n",
       "      <td>453</td>\n",
       "      <td>2223</td>\n",
       "      <td>san francisco</td>\n",
       "      <td>486</td>\n",
       "      <td>379</td>\n",
       "      <td>abbey</td>\n",
       "      <td>atlanta</td>\n",
       "    </tr>\n",
       "    <tr>\n",
       "      <th>7</th>\n",
       "      <td>560</td>\n",
       "      <td>453</td>\n",
       "      <td>2223</td>\n",
       "      <td>san francisco</td>\n",
       "      <td>145</td>\n",
       "      <td>74</td>\n",
       "      <td>abruzzi</td>\n",
       "      <td>atlanta</td>\n",
       "    </tr>\n",
       "    <tr>\n",
       "      <th>8</th>\n",
       "      <td>560</td>\n",
       "      <td>453</td>\n",
       "      <td>2223</td>\n",
       "      <td>san francisco</td>\n",
       "      <td>146</td>\n",
       "      <td>74</td>\n",
       "      <td>abruzzi</td>\n",
       "      <td>atlanta</td>\n",
       "    </tr>\n",
       "    <tr>\n",
       "      <th>9</th>\n",
       "      <td>560</td>\n",
       "      <td>453</td>\n",
       "      <td>2223</td>\n",
       "      <td>san francisco</td>\n",
       "      <td>561</td>\n",
       "      <td>454</td>\n",
       "      <td>acquarello</td>\n",
       "      <td>san francisco</td>\n",
       "    </tr>\n",
       "  </tbody>\n",
       "</table>\n",
       "</div>"
      ],
      "text/plain": [
       "   id_x  cluster_x name_x         city_x  id_y  cluster_y          name_y  \\\n",
       "0   560        453   2223  san francisco   560        453            2223   \n",
       "1   560        453   2223  san francisco   781        675        103 west   \n",
       "2   560        453   2223  san francisco   279        172         20 mott   \n",
       "3   560        453   2223  san francisco    43         23         21 club   \n",
       "4   560        453   2223  san francisco    44         23         21 club   \n",
       "5   560        453   2223  san francisco   280        173  9 jones street   \n",
       "6   560        453   2223  san francisco   486        379           abbey   \n",
       "7   560        453   2223  san francisco   145         74         abruzzi   \n",
       "8   560        453   2223  san francisco   146         74         abruzzi   \n",
       "9   560        453   2223  san francisco   561        454      acquarello   \n",
       "\n",
       "          city_y  \n",
       "0  san francisco  \n",
       "1        atlanta  \n",
       "2       new york  \n",
       "3       new york  \n",
       "4  new york city  \n",
       "5       new york  \n",
       "6        atlanta  \n",
       "7        atlanta  \n",
       "8        atlanta  \n",
       "9  san francisco  "
      ]
     },
     "execution_count": 18,
     "metadata": {},
     "output_type": "execute_result"
    }
   ],
   "source": [
    "prod[:10]"
   ]
  },
  {
   "cell_type": "markdown",
   "metadata": {},
   "source": [
    "**Question 3**\n",
    "\n",
    "Remove pairs with the same IDs and redundant pairs in 'prod'."
   ]
  },
  {
   "cell_type": "code",
   "execution_count": 19,
   "metadata": {
    "collapsed": false
   },
   "outputs": [
    {
     "data": {
      "text/html": [
       "<div>\n",
       "<table border=\"1\" class=\"dataframe\">\n",
       "  <thead>\n",
       "    <tr style=\"text-align: right;\">\n",
       "      <th></th>\n",
       "      <th>id_x</th>\n",
       "      <th>cluster_x</th>\n",
       "      <th>name_x</th>\n",
       "      <th>city_x</th>\n",
       "      <th>id_y</th>\n",
       "      <th>cluster_y</th>\n",
       "      <th>name_y</th>\n",
       "      <th>city_y</th>\n",
       "    </tr>\n",
       "  </thead>\n",
       "  <tbody>\n",
       "    <tr>\n",
       "      <th>2</th>\n",
       "      <td>560</td>\n",
       "      <td>453</td>\n",
       "      <td>2223</td>\n",
       "      <td>san francisco</td>\n",
       "      <td>279</td>\n",
       "      <td>172</td>\n",
       "      <td>20 mott</td>\n",
       "      <td>new york</td>\n",
       "    </tr>\n",
       "    <tr>\n",
       "      <th>3</th>\n",
       "      <td>560</td>\n",
       "      <td>453</td>\n",
       "      <td>2223</td>\n",
       "      <td>san francisco</td>\n",
       "      <td>43</td>\n",
       "      <td>23</td>\n",
       "      <td>21 club</td>\n",
       "      <td>new york</td>\n",
       "    </tr>\n",
       "    <tr>\n",
       "      <th>4</th>\n",
       "      <td>560</td>\n",
       "      <td>453</td>\n",
       "      <td>2223</td>\n",
       "      <td>san francisco</td>\n",
       "      <td>44</td>\n",
       "      <td>23</td>\n",
       "      <td>21 club</td>\n",
       "      <td>new york city</td>\n",
       "    </tr>\n",
       "    <tr>\n",
       "      <th>5</th>\n",
       "      <td>560</td>\n",
       "      <td>453</td>\n",
       "      <td>2223</td>\n",
       "      <td>san francisco</td>\n",
       "      <td>280</td>\n",
       "      <td>173</td>\n",
       "      <td>9 jones street</td>\n",
       "      <td>new york</td>\n",
       "    </tr>\n",
       "    <tr>\n",
       "      <th>6</th>\n",
       "      <td>560</td>\n",
       "      <td>453</td>\n",
       "      <td>2223</td>\n",
       "      <td>san francisco</td>\n",
       "      <td>486</td>\n",
       "      <td>379</td>\n",
       "      <td>abbey</td>\n",
       "      <td>atlanta</td>\n",
       "    </tr>\n",
       "    <tr>\n",
       "      <th>7</th>\n",
       "      <td>560</td>\n",
       "      <td>453</td>\n",
       "      <td>2223</td>\n",
       "      <td>san francisco</td>\n",
       "      <td>145</td>\n",
       "      <td>74</td>\n",
       "      <td>abruzzi</td>\n",
       "      <td>atlanta</td>\n",
       "    </tr>\n",
       "    <tr>\n",
       "      <th>8</th>\n",
       "      <td>560</td>\n",
       "      <td>453</td>\n",
       "      <td>2223</td>\n",
       "      <td>san francisco</td>\n",
       "      <td>146</td>\n",
       "      <td>74</td>\n",
       "      <td>abruzzi</td>\n",
       "      <td>atlanta</td>\n",
       "    </tr>\n",
       "    <tr>\n",
       "      <th>10</th>\n",
       "      <td>560</td>\n",
       "      <td>453</td>\n",
       "      <td>2223</td>\n",
       "      <td>san francisco</td>\n",
       "      <td>219</td>\n",
       "      <td>112</td>\n",
       "      <td>adriano's ristorante</td>\n",
       "      <td>los angeles</td>\n",
       "    </tr>\n",
       "    <tr>\n",
       "      <th>11</th>\n",
       "      <td>560</td>\n",
       "      <td>453</td>\n",
       "      <td>2223</td>\n",
       "      <td>san francisco</td>\n",
       "      <td>281</td>\n",
       "      <td>174</td>\n",
       "      <td>adrienne</td>\n",
       "      <td>new york</td>\n",
       "    </tr>\n",
       "    <tr>\n",
       "      <th>13</th>\n",
       "      <td>560</td>\n",
       "      <td>453</td>\n",
       "      <td>2223</td>\n",
       "      <td>san francisco</td>\n",
       "      <td>282</td>\n",
       "      <td>175</td>\n",
       "      <td>agrotikon</td>\n",
       "      <td>new york</td>\n",
       "    </tr>\n",
       "  </tbody>\n",
       "</table>\n",
       "</div>"
      ],
      "text/plain": [
       "    id_x  cluster_x name_x         city_x  id_y  cluster_y  \\\n",
       "2    560        453   2223  san francisco   279        172   \n",
       "3    560        453   2223  san francisco    43         23   \n",
       "4    560        453   2223  san francisco    44         23   \n",
       "5    560        453   2223  san francisco   280        173   \n",
       "6    560        453   2223  san francisco   486        379   \n",
       "7    560        453   2223  san francisco   145         74   \n",
       "8    560        453   2223  san francisco   146         74   \n",
       "10   560        453   2223  san francisco   219        112   \n",
       "11   560        453   2223  san francisco   281        174   \n",
       "13   560        453   2223  san francisco   282        175   \n",
       "\n",
       "                  name_y         city_y  \n",
       "2                20 mott       new york  \n",
       "3                21 club       new york  \n",
       "4                21 club  new york city  \n",
       "5         9 jones street       new york  \n",
       "6                  abbey        atlanta  \n",
       "7                abruzzi        atlanta  \n",
       "8                abruzzi        atlanta  \n",
       "10  adriano's ristorante    los angeles  \n",
       "11              adrienne       new york  \n",
       "13             agrotikon       new york  "
      ]
     },
     "execution_count": 19,
     "metadata": {},
     "output_type": "execute_result"
    }
   ],
   "source": [
    "prod = prod[prod.id_x > prod.id_y]\n",
    "prod[:10]"
   ]
  },
  {
   "cell_type": "markdown",
   "metadata": {},
   "source": [
    "##### 2. Add a column to the Cartesian product that measures how \"similar\" each pair of records is."
   ]
  },
  {
   "cell_type": "markdown",
   "metadata": {},
   "source": [
    "We're going to use a measure of string similarity called **edit-distance**. Edit-distance counts the number of simple changes you have to make to a string to turn it into another string."
   ]
  },
  {
   "cell_type": "markdown",
   "metadata": {},
   "source": [
    "Import the edit distance library:"
   ]
  },
  {
   "cell_type": "code",
   "execution_count": 26,
   "metadata": {
    "collapsed": false
   },
   "outputs": [
    {
     "data": {
      "text/plain": [
       "1"
      ]
     },
     "execution_count": 26,
     "metadata": {},
     "output_type": "execute_result"
    }
   ],
   "source": [
    "import Levenshtein as L\n",
    "\n",
    "L.distance('Hello, World!', 'Hallo, World!')"
   ]
  },
  {
   "cell_type": "markdown",
   "metadata": {},
   "source": [
    "Next, we add a computed column, named **distance**, that measures the edit distance between the names of two restaurants:"
   ]
  },
  {
   "cell_type": "code",
   "execution_count": 27,
   "metadata": {
    "collapsed": true
   },
   "outputs": [],
   "source": [
    "# This might take a minute or two to run\n",
    "prod['distance'] = prod.apply(lambda r: L.distance(r['name_x'], r['name_y']), axis=1)"
   ]
  },
  {
   "cell_type": "markdown",
   "metadata": {},
   "source": [
    "##### 3. Filter the Cartesian product based on when the join criterion is \"similar enough.\""
   ]
  },
  {
   "cell_type": "markdown",
   "metadata": {},
   "source": [
    "Now we complete the join by filtering out pairs or records that aren't equal enough for our liking. \n",
    "We can only figure out how similar is \"similar enough\" by trying out some different options. \n",
    "\n",
    "Let's try maximum edit-distance from 0 to 10 and compute [precision and recall](https://www.quora.com/What-is-the-best-way-to-understand-the-terms-precision-and-recall/answer/Joel-Chan?srid=nJbo).\n",
    "\n",
    "Remember that we are fuzzy-joining based on inaccurate **name** column, thus pairs that we deem similar may not be actually about the same restaurant, and we can use the 'golden standard' column **cluster** to determine if our prediction based on edit-distance of name columns are right or not."
   ]
  },
  {
   "cell_type": "code",
   "execution_count": 28,
   "metadata": {
    "collapsed": false
   },
   "outputs": [
    {
     "data": {
      "text/plain": [
       "<matplotlib.legend.Legend at 0x10648b110>"
      ]
     },
     "execution_count": 28,
     "metadata": {},
     "output_type": "execute_result"
    },
    {
     "data": {
      "image/png": "[encoded data removed]",
      "text/plain": [
       "<matplotlib.figure.Figure at 0x1079ae490>"
      ]
     },
     "metadata": {},
     "output_type": "display_data"
    }
   ],
   "source": [
    "%matplotlib inline\n",
    "import pylab\n",
    "\n",
    "def accuracy(max_distance):\n",
    "    similar = prod[prod.distance < max_distance]\n",
    "    correct = float(sum(similar.cluster_x == similar.cluster_y))\n",
    "    precision = correct / len(similar)\n",
    "    recall = correct / len(clusters)\n",
    "    return (precision, recall)\n",
    "\n",
    "thresholds = range(1, 11)\n",
    "p = []\n",
    "r = []\n",
    "thresholds\n",
    "\n",
    "for t in thresholds:\n",
    "    acc = accuracy(t)\n",
    "    p.append(acc[0])\n",
    "    r.append(acc[1])\n",
    "    \n",
    "pylab.plot(thresholds, p)\n",
    "pylab.plot(thresholds, r)\n",
    "pylab.legend(['precision', 'recall'], loc='upper left')"
   ]
  },
  {
   "cell_type": "markdown",
   "metadata": {},
   "source": [
    "**Question 4**\n",
    "\n",
    "Another common way to visualize the tradeoff between precision and recall is to plot them directly against each other. Create a line plot with precision on one axis and recall on the other (this graph generated is called [precision-recall curve](https://www.quora.com/What-is-Precision-Recall-PR-curve)). Where are \"good\" points on the plot, and where are \"bad\" ones.(use recall as horizontal axis and precision as vertical axis)"
   ]
  },
  {
   "cell_type": "code",
   "execution_count": 29,
   "metadata": {
    "collapsed": true
   },
   "outputs": [],
   "source": [
    "import matplotlib.pyplot as plt"
   ]
  },
  {
   "cell_type": "code",
   "execution_count": 30,
   "metadata": {
    "collapsed": false
   },
   "outputs": [
    {
     "data": {
      "text/plain": [
       "<matplotlib.text.Text at 0x107a56bd0>"
      ]
     },
     "execution_count": 30,
     "metadata": {},
     "output_type": "execute_result"
    },
    {
     "data": {
      "image/png": "[encoded data removed]",
      "text/plain": [
       "<matplotlib.figure.Figure at 0x11032ab90>"
      ]
     },
     "metadata": {},
     "output_type": "display_data"
    }
   ],
   "source": [
    "plt.plot(r,p)\n",
    "plt.xlabel('recall')\n",
    "plt.ylabel('precision')"
   ]
  },
  {
   "cell_type": "markdown",
   "metadata": {
    "collapsed": true
   },
   "source": [
    "Good points are points who has high precision and high recall. In the picture, comparing with the fifth point, the first point and the second point are good points. As points with higher precision have less recall, so we should make a balance between precision and recall."
   ]
  },
  {
   "cell_type": "markdown",
   "metadata": {},
   "source": [
    "**Question 5**\n",
    "\n",
    "The python Levenshtein library provides another metric of string similarity called \"ratio\" (use L.ratio(s1, s1)). ratio gives a similarity score between 0 and 1, with **higher meaning more similar**. Add a column to \"prod\" with the ratio similarities of the name columns, and redo the precision/recall tradeoff analysis with the new metric. (Note: you will have to alter the accuracy method and the threshold range.) On this data, does Levenshtein.ratio do better than Levenshtein.distance? (Plot the two precision-recall curves together in one graph to compare them)"
   ]
  },
  {
   "cell_type": "code",
   "execution_count": 31,
   "metadata": {
    "collapsed": true
   },
   "outputs": [],
   "source": [
    "prod['ratio'] = prod.apply(lambda r: L.ratio(r['name_x'], r['name_y']), axis=1)"
   ]
  },
  {
   "cell_type": "code",
   "execution_count": 32,
   "metadata": {
    "collapsed": false
   },
   "outputs": [
    {
     "data": {
      "text/plain": [
       "[0.1, 0.2, 0.3, 0.4, 0.5, 0.6, 0.7, 0.8, 0.9, 1.0]"
      ]
     },
     "execution_count": 32,
     "metadata": {},
     "output_type": "execute_result"
    }
   ],
   "source": [
    "thresholds2=[x/10.0 for x in range(1, 11)]\n",
    "thresholds2"
   ]
  },
  {
   "cell_type": "code",
   "execution_count": 33,
   "metadata": {
    "collapsed": false
   },
   "outputs": [],
   "source": [
    "def accuracy2(max_ratio):\n",
    "    similar = prod[prod.ratio > 1-max_ratio]\n",
    "    correct = float(sum(similar.cluster_x == similar.cluster_y))\n",
    "    precision = correct / len(similar)\n",
    "    recall = correct / len(clusters)\n",
    "    return (precision, recall)\n",
    "p2 = []\n",
    "r2 = []\n",
    "for t in thresholds2:\n",
    "    acc = accuracy2(t)\n",
    "    p2.append(acc[0])\n",
    "    r2.append(acc[1])"
   ]
  },
  {
   "cell_type": "code",
   "execution_count": 34,
   "metadata": {
    "collapsed": false
   },
   "outputs": [
    {
     "data": {
      "text/plain": [
       "<matplotlib.text.Text at 0x1078eb250>"
      ]
     },
     "execution_count": 34,
     "metadata": {},
     "output_type": "execute_result"
    },
    {
     "data": {
      "image/png": "[encoded data removed]",
      "text/plain": [
       "<matplotlib.figure.Figure at 0x109716050>"
      ]
     },
     "metadata": {},
     "output_type": "display_data"
    }
   ],
   "source": [
    "pylab.plot(r, p)\n",
    "pylab.plot(r2, p2)\n",
    "pylab.legend(['precision-recall curve', 'ratio'], loc='upper right')\n",
    "pylab.xlabel('recall')\n",
    "pylab.ylabel('precision')"
   ]
  },
  {
   "cell_type": "markdown",
   "metadata": {
    "collapsed": true
   },
   "source": [
    "Levenshtein.ratio does better than Levenshtein.distance. when Levenshtein.ratio and Levenshtein.distance have the same precision, Levenshtein.ratio have a larger recall than Levenshtein.distance.  "
   ]
  },
  {
   "cell_type": "markdown",
   "metadata": {},
   "source": [
    "## Homework"
   ]
  },
  {
   "cell_type": "markdown",
   "metadata": {},
   "source": [
    "Please answer the questions 1 - 5 inlined in this ipython notebook, and submit a pdf document containing your answers and graphs generated (if applicable). \n",
    "\n",
    "You can just do a screenshot of the graph generated and copy to a google doc along with your code, no need to import additional libs for generating pdf from ipython notebook."
   ]
  }
 ],
 "metadata": {
  "kernelspec": {
   "display_name": "Python 2",
   "language": "python",
   "name": "python2"
  },
  "language_info": {
   "codemirror_mode": {
    "name": "ipython",
    "version": 2
   },
   "file_extension": ".py",
   "mimetype": "text/x-python",
   "name": "python",
   "nbconvert_exporter": "python",
   "pygments_lexer": "ipython2",
   "version": "2.7.10"
  }
 },
 "nbformat": 4,
 "nbformat_minor": 0
}
