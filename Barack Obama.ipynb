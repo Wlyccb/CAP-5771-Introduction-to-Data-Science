{
 "cells": [
  {
   "cell_type": "markdown",
   "metadata": {},
   "source": [
    "# Extract facts about tJim Parsons’s wikipedia pages"
   ]
  },
  {
   "cell_type": "code",
   "execution_count": 39,
   "metadata": {
    "collapsed": false
   },
   "outputs": [
    {
     "data": {
      "text/plain": [
       "<Response [200]>"
      ]
     },
     "execution_count": 39,
     "metadata": {},
     "output_type": "execute_result"
    }
   ],
   "source": [
    "import requests\n",
    "title='Barack Obama'\n",
    "response = requests.get(\"https://simple.wikipedia.org/w/api.php?format=json&action=query&titles=\"+str(title)+\"&prop=revisions&rvprop=content\")\n",
    "response"
   ]
  },
  {
   "cell_type": "code",
   "execution_count": 40,
   "metadata": {
    "collapsed": true
   },
   "outputs": [],
   "source": [
    "jsondata = response.json()"
   ]
  },
  {
   "cell_type": "code",
   "execution_count": 41,
   "metadata": {
    "collapsed": true
   },
   "outputs": [],
   "source": [
    "import json\n",
    "\n",
    "def pretty(jdata):    \n",
    "    str = json.dumps(jdata, sort_keys=True, indent=4).decode('string_escape')    \n",
    "    return str\n",
    "\n",
    "def saveas(sdata, fname):    \n",
    "    f = open(fname,'w')    \n",
    "    f.write(sdata)\n",
    "    f.close()"
   ]
  },
  {
   "cell_type": "code",
   "execution_count": 42,
   "metadata": {
    "collapsed": true
   },
   "outputs": [],
   "source": [
    "saveas(pretty(jsondata), title+'.json')"
   ]
  },
  {
   "cell_type": "code",
   "execution_count": 43,
   "metadata": {
    "collapsed": true
   },
   "outputs": [],
   "source": [
    "content = jsondata['query']['pages'].values()[0]['revisions'][-1]\n",
    "content = content.get('*')"
   ]
  },
  {
   "cell_type": "code",
   "execution_count": 44,
   "metadata": {
    "collapsed": true
   },
   "outputs": [],
   "source": [
    "import mwparserfromhell as mwph \n",
    "wikicode = mwph.parse(content)"
   ]
  },
  {
   "cell_type": "code",
   "execution_count": 45,
   "metadata": {
    "collapsed": true
   },
   "outputs": [],
   "source": [
    "text = wikicode.strip_code()"
   ]
  },
  {
   "cell_type": "code",
   "execution_count": 46,
   "metadata": {
    "collapsed": true
   },
   "outputs": [],
   "source": [
    "saveas(pretty(text), title+'simple.txt')"
   ]
  },
  {
   "cell_type": "code",
   "execution_count": 48,
   "metadata": {
    "collapsed": true
   },
   "outputs": [],
   "source": [
    "from lxml import etree \n",
    "parser = etree.XMLParser(recover=True)\n",
    "tree = etree.parse('Obama.xml',parser)"
   ]
  },
  {
   "cell_type": "code",
   "execution_count": 49,
   "metadata": {
    "collapsed": true
   },
   "outputs": [],
   "source": [
    "root=tree.getroot() "
   ]
  },
  {
   "cell_type": "code",
   "execution_count": 50,
   "metadata": {
    "collapsed": true
   },
   "outputs": [],
   "source": [
    "title = 'Obama'"
   ]
  },
  {
   "cell_type": "markdown",
   "metadata": {},
   "source": [
    "facts"
   ]
  },
  {
   "cell_type": "code",
   "execution_count": 80,
   "metadata": {
    "collapsed": true
   },
   "outputs": [],
   "source": [
    "title = 'Obama'\n",
    "def printnode(node):    \n",
    "    for i in node.findall(\".//leaf\"):        \n",
    "        print(\" \" + i.attrib['value']),    \n",
    "    print('') \n",
    "\n",
    "def testnode(node, agent, action):    \n",
    "    aa = node.findall(\"./node[@value='NP']//node[@value='NNP']//leaf[@value='\"+agent+\"']\")    \n",
    "    bb = node.findall(\"./node[@value='VP']//leaf[@value='\"+action+\"']\")    \n",
    "    if (len(aa) > 0 and len(bb) > 0):        \n",
    "        printnode(node)     \n",
    "\n",
    "def agentact(node, agent, action):    \n",
    "    testnode(node, agent, action)    \n",
    "    snodes = node.findall(\".//node[@value='S']\")    \n",
    "    for snode in snodes:        \n",
    "        testnode(snode, agent, action)"
   ]
  },
  {
   "cell_type": "code",
   "execution_count": 81,
   "metadata": {
    "collapsed": false
   },
   "outputs": [
    {
     "name": "stdout",
     "output_type": "stream",
     "text": [
      " Obama  won  the  2008  United  States  presidential  election  ,  on  November  4  ,  2008  . \n",
      " Obama  won  the  election  and  became  an  Illinois  state  senator  . \n",
      " Obama  won  the  presidential  election  of  2008  . \n",
      " Obama  won  many  smaller  state  caucuses  -LRB-  local  party  elections  -RRB-  by  having  a  lot  of  volunteers \n",
      " Obama  won  the  election  to  become  President \n",
      " While  the  election  results  were  very  close  ,  Obama  easily  won  the  electoral  college  votes  he  needed  to  win  a  second  term  . \n"
     ]
    },
    {
     "data": {
      "text/plain": [
       "[]"
      ]
     },
     "execution_count": 81,
     "metadata": {},
     "output_type": "execute_result"
    }
   ],
   "source": [
    "map(lambda (nn): agentact(nn[0][0][0], title, 'won'), root)\n",
    "[]\n"
   ]
  },
  {
   "cell_type": "code",
   "execution_count": 53,
   "metadata": {
    "collapsed": false
   },
   "outputs": [
    {
     "name": "stdout",
     "output_type": "stream",
     "text": [
      " ``  Barack  Hussein  Obama  II  -LRB-  ;  born  August  4  ,  1961  -RRB-  is  the  44th  and  current  President  of  the  United  States  and  the  first  African-American  to  hold  the  office  . \n",
      " Obama  has  a  half  sister  who  is  a  teacher  in  Hawaii  . \n"
     ]
    },
    {
     "data": {
      "text/plain": [
       "[]"
      ]
     },
     "execution_count": 53,
     "metadata": {},
     "output_type": "execute_result"
    }
   ],
   "source": [
    "map(lambda (nn): agentact(nn[0][0][0], title, 'is'), root)\n",
    "[]"
   ]
  },
  {
   "cell_type": "code",
   "execution_count": 90,
   "metadata": {
    "collapsed": false
   },
   "outputs": [],
   "source": [
    "title = 'Obama'\n",
    "def printnode2(node):    \n",
    "    for i in node.findall(\".//leaf\"):        \n",
    "        print(\" \" + i.attrib['value']),    \n",
    "    print('') \n",
    "\n",
    "def testnode2(node, agent, action):    \n",
    "    aa = node.findall(\"./node[@value='NP']//node[@value='NNS']//leaf[@value='\"+agent+\"']\")    \n",
    "    bb = node.findall(\"./node[@value='VP']//node[@value='VP']//node[@value='VBN']//leaf[@value='\"+action+\"']\")    \n",
    "    if (len(aa) > 0 and len(bb) > 0):        \n",
    "        printnode2(node)     \n",
    "\n",
    "def agentact2(node, agent, action):    \n",
    "    testnode2(node, agent, action)    \n",
    "    snodes = node.findall(\".//node[@value='S']\")    \n",
    "    for snode in snodes:        \n",
    "        testnode2(snode, agent, action)"
   ]
  },
  {
   "cell_type": "code",
   "execution_count": 91,
   "metadata": {
    "collapsed": false
   },
   "outputs": [
    {
     "name": "stdout",
     "output_type": "stream",
     "text": [
      " Early  life  Obama  was  born  on  August  4  ,  1961  in  Kapi  \\  u02bbolani  Medical  Center  for  Women  and  Children  -LRB-  called  Kapi  \\  u02bbolani  Maternity  &  Gynecological  Hospital  in  1961  -RRB-  in  Honolulu  ,  Hawaii  and  is  the  first  President  to  have  been  born  in  Hawaii  . \n"
     ]
    },
    {
     "data": {
      "text/plain": [
       "[]"
      ]
     },
     "execution_count": 91,
     "metadata": {},
     "output_type": "execute_result"
    }
   ],
   "source": [
    "map(lambda (nn): agentact2(nn[0][0][0], title, 'born'), root)\n",
    "[]"
   ]
  },
  {
   "cell_type": "code",
   "execution_count": 105,
   "metadata": {
    "collapsed": false
   },
   "outputs": [
    {
     "name": "stdout",
     "output_type": "stream",
     "text": [
      " Education  He  started  college  at  Occidental  College  in  Los  Angeles  ,  and  graduated  from  Columbia  University  in  New  York  City  . \n",
      " After  taking  time  off  to  community  organize  ,  Obama  went  to  law  school  at  Harvard  University  . \n"
     ]
    },
    {
     "data": {
      "text/plain": [
       "[]"
      ]
     },
     "execution_count": 105,
     "metadata": {},
     "output_type": "execute_result"
    }
   ],
   "source": [
    "title = 'Obama'\n",
    "def printnode3(node):    \n",
    "    for i in node.findall(\".//leaf\"):        \n",
    "        print(\" \" + i.attrib['value']),    \n",
    "    print('') \n",
    "\n",
    "def testnode3(node, agent1, agent2,action1, action2):    \n",
    "    aa = node.findall(\"./node[@value='NP']//node[@value='NNP']//leaf[@value='\"+agent1+\"']\")  \n",
    "    cc = node.findall(\"./node[@value='NP']//node[@value='PRP']//leaf[@value='\"+agent2+\"']\") \n",
    "    bb = node.findall(\"./node[@value='VP']//node[@value='PP']//node[@value='NP']//node[@value='NNP']//leaf[@value='\"+action1+\"']\")\n",
    "    dd = node.findall(\"./node[@value='VP']//node[@value='VBD']//leaf[@value='\"+action2+\"']\")\n",
    "    if ((len(bb)>0) and (len(aa) > 0 or len(cc) > 0) and len(dd) == 0):        \n",
    "        printnode3(node)     \n",
    "\n",
    "def agentact3(node, agent1, agent2, action1, action2):    \n",
    "    testnode3(node, agent1, agent2, action1, action2)    \n",
    "    snodes = node.findall(\".//node[@value='S']\")    \n",
    "    for snode in snodes:        \n",
    "        testnode3(snode, agent1, agent2, action1, action2)\n",
    "        \n",
    "map(lambda (nn): agentact3(nn[0][0][0], 'Obama','He', 'University','taught'), root)\n",
    "[]"
   ]
  },
  {
   "cell_type": "code",
   "execution_count": null,
   "metadata": {
    "collapsed": true
   },
   "outputs": [],
   "source": []
  }
 ],
 "metadata": {
  "kernelspec": {
   "display_name": "Python 2",
   "language": "python",
   "name": "python2"
  },
  "language_info": {
   "codemirror_mode": {
    "name": "ipython",
    "version": 2
   },
   "file_extension": ".py",
   "mimetype": "text/x-python",
   "name": "python",
   "nbconvert_exporter": "python",
   "pygments_lexer": "ipython2",
   "version": "2.7.10"
  }
 },
 "nbformat": 4,
 "nbformat_minor": 0
}
